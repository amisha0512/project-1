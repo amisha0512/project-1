{
 "cells": [
  {
   "cell_type": "code",
   "execution_count": null,
   "id": "e95856d9",
   "metadata": {},
   "outputs": [
    {
     "name": "stdout",
     "output_type": "stream",
     "text": [
      "welcome to cinepolis theatre\n",
      "enter your name: amisha\n",
      "enter your phone number: 123\n",
      "what type of seat do you want? (normal or recliner)normal\n",
      "how many seat do you want?1\n",
      "250\n",
      "seats left 129\n",
      "do you want to add more seat? (no/yes)yes\n",
      "----------------------------------------\n",
      "customers name: amisha\n",
      " phone_number: 123\n",
      "total amount 0\n",
      "thanks for visiting cinepolis theatre\n",
      "________________________________________\n"
     ]
    }
   ],
   "source": [
    "\n",
    "total_seats=150\n",
    "normal_seats=130\n",
    "recliner_seats=20\n",
    "normal_seat_price=250\n",
    "recliner_seat_price=380\n",
    "\n",
    "while True:\n",
    "    amount_normal=0\n",
    "    amount_recliner=0\n",
    "    print(\"welcome to cinepolis theatre\")\n",
    "    \n",
    "    name=input(\"enter your name: \")\n",
    "    phone_number=int(input(\"enter your phone number: \"))\n",
    "    choice=input(\"what type of seat do you want? (normal or recliner)\")\n",
    "    \n",
    "    while True:\n",
    "        if choice==\"normal\":\n",
    "            choice=int(input(\"how many seat do you want?\"))\n",
    "            \n",
    "            if choice<=normal_seats:\n",
    "                amount_normal += choice*normal_seat_price\n",
    "                normal_seats -= choice\n",
    "                print(amount_normal)\n",
    "                print(\"seats left\", normal_seats)\n",
    "            else:\n",
    "                print(\"seats not available\")\n",
    "        if choice==\"recliner\":\n",
    "            choice=int(input(\"how many seat do you want? \"))\n",
    "            \n",
    "            if choice<=recliner_seats:\n",
    "                amount_recliner += choice*recliner_seat_price\n",
    "                recliner_seats -= choice\n",
    "                print(amount_recliner)\n",
    "                print(\"seat left\",recliner_seats)\n",
    "                \n",
    "        repeat=input(\"do you want to add more seat? (yes/no)\")\n",
    "        if repeat==\"no\" or repeat==\"NO\" or repeat==\"No\":\n",
    "            break\n",
    "        print(\"-\"*40)\n",
    "        print(\"customers name:\",name)\n",
    "        print(\" phone_number:\",phone_number)\n",
    "        if choice==\"normal\":\n",
    "            print(\"total amount\",amount_normal)\n",
    "        else:\n",
    "            print(\"total amount\",amount_recliner)\n",
    "            \n",
    "        print(\"thanks for visiting cinepolis theatre\")\n",
    "        print(\"_\"*40)\n",
    "        repeat_customer=input(\"new customer? (yes/no)\")\n",
    "        if repeat_customer==\"no\" or repeat_customer==\"No\" or repeat==\"NO\":\n",
    "            break\n",
    "        \n",
    "        \n",
    "                \n",
    "\n"
   ]
  },
  {
   "cell_type": "code",
   "execution_count": null,
   "id": "4ee45783",
   "metadata": {},
   "outputs": [],
   "source": []
  },
  {
   "cell_type": "code",
   "execution_count": null,
   "id": "528bc1ae",
   "metadata": {},
   "outputs": [],
   "source": []
  }
 ],
 "metadata": {
  "kernelspec": {
   "display_name": "Python 3 (ipykernel)",
   "language": "python",
   "name": "python3"
  },
  "language_info": {
   "codemirror_mode": {
    "name": "ipython",
    "version": 3
   },
   "file_extension": ".py",
   "mimetype": "text/x-python",
   "name": "python",
   "nbconvert_exporter": "python",
   "pygments_lexer": "ipython3",
   "version": "3.11.2"
  }
 },
 "nbformat": 4,
 "nbformat_minor": 5
}
